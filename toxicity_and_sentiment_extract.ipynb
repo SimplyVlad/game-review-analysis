{
  "nbformat": 4,
  "nbformat_minor": 0,
  "metadata": {
    "colab": {
      "name": "toxicity_extraction.ipynb",
      "provenance": [],
      "collapsed_sections": []
    },
    "kernelspec": {
      "name": "python3",
      "display_name": "Python 3"
    },
    "language_info": {
      "name": "python"
    }
  },
  "cells": [
    {
      "cell_type": "markdown",
      "source": [
        "# Toxicity and Sentiment extraction"
      ],
      "metadata": {
        "id": "O6jm5yMXhNY3"
      }
    },
    {
      "cell_type": "markdown",
      "source": [
        "In this notebook we are going to process the text and then extract sentiment and toxicity using models trained on social media comments."
      ],
      "metadata": {
        "id": "jHoHs56ChXFU"
      }
    },
    {
      "cell_type": "markdown",
      "source": [
        "Install necessary packages:"
      ],
      "metadata": {
        "id": "5tYKoXtKhjgp"
      }
    },
    {
      "cell_type": "code",
      "source": [
        "%%capture\n",
        "!pip install detoxify\n",
        "!pip install vaderSentiment\n"
      ],
      "metadata": {
        "id": "Daa3dpTh59tY"
      },
      "execution_count": 1,
      "outputs": []
    },
    {
      "cell_type": "markdown",
      "source": [
        "Import all necessary packages:"
      ],
      "metadata": {
        "id": "vU599bz7iKd9"
      }
    },
    {
      "cell_type": "code",
      "execution_count": 2,
      "metadata": {
        "id": "Lm_wSH_zs14a"
      },
      "outputs": [],
      "source": [
        "from google.colab import drive\n",
        "import pandas as pd"
      ]
    },
    {
      "cell_type": "code",
      "source": [
        "   \n",
        "import re\n",
        "import spacy\n",
        "import nltk\n",
        "# -------------------------------------------------------------------------\n",
        "from spacy.lang.en import English\n",
        "from spacy.lang.en.stop_words import STOP_WORDS\n",
        "\n",
        "\n",
        "import string\n",
        "from string import ascii_lowercase"
      ],
      "metadata": {
        "id": "F3S0hubN3AZZ",
        "colab": {
          "base_uri": "https://localhost:8080/"
        },
        "outputId": "34b2edb4-81aa-4b2c-bd6d-84b243d510d0"
      },
      "execution_count": 3,
      "outputs": [
        {
          "output_type": "stream",
          "name": "stdout",
          "text": [
            "[nltk_data] Downloading package wordnet to /root/nltk_data...\n",
            "[nltk_data]   Package wordnet is already up-to-date!\n"
          ]
        }
      ]
    },
    {
      "cell_type": "markdown",
      "source": [
        "Read the source data from Google Drive:"
      ],
      "metadata": {
        "id": "JTbRrgtTiRKG"
      }
    },
    {
      "cell_type": "code",
      "source": [
        "drive.mount('/content/drive')\n",
        "file_location = '/content/drive/My Drive/datasets/toxicity/' \n",
        "file_name='user_reviews_clean.csv'\n",
        "user_reviews = pd.read_csv(file_location+file_name, lineterminator='\\n')\n",
        "user_reviews.drop(columns=[\"Unnamed: 0\"], inplace=True)\n",
        "user_reviews.head()"
      ],
      "metadata": {
        "colab": {
          "base_uri": "https://localhost:8080/",
          "height": 221
        },
        "id": "5cyOdAqytMW5",
        "outputId": "ab0975d6-d1dd-4871-ffdc-0f7160223dc1"
      },
      "execution_count": 4,
      "outputs": [
        {
          "output_type": "stream",
          "name": "stdout",
          "text": [
            "Drive already mounted at /content/drive; to attempt to forcibly remount, call drive.mount(\"/content/drive\", force_remount=True).\n"
          ]
        },
        {
          "output_type": "execute_result",
          "data": {
            "text/plain": [
              "     item                                             review  uid  \\\n",
              "0    1250  Simple yet with great replayability. In my opi...    0   \n",
              "1   22200               It's unique and worth a playthrough.    0   \n",
              "2   43110  Great atmosphere. The gunplay can be a bit chu...    0   \n",
              "3  251610  I know what you think when you see this title ...    1   \n",
              "4  227300  For a simple (it's actually not all that simpl...    1   \n",
              "\n",
              "     month_day  recommend_flag  review_length  \n",
              "0   November 5               1            249  \n",
              "1      July 15               1             36  \n",
              "2     April 21               1            182  \n",
              "3      June 24               1            566  \n",
              "4  September 8               1            590  "
            ],
            "text/html": [
              "\n",
              "  <div id=\"df-b76ec643-c168-4305-a0d7-db9811cdec9e\">\n",
              "    <div class=\"colab-df-container\">\n",
              "      <div>\n",
              "<style scoped>\n",
              "    .dataframe tbody tr th:only-of-type {\n",
              "        vertical-align: middle;\n",
              "    }\n",
              "\n",
              "    .dataframe tbody tr th {\n",
              "        vertical-align: top;\n",
              "    }\n",
              "\n",
              "    .dataframe thead th {\n",
              "        text-align: right;\n",
              "    }\n",
              "</style>\n",
              "<table border=\"1\" class=\"dataframe\">\n",
              "  <thead>\n",
              "    <tr style=\"text-align: right;\">\n",
              "      <th></th>\n",
              "      <th>item</th>\n",
              "      <th>review</th>\n",
              "      <th>uid</th>\n",
              "      <th>month_day</th>\n",
              "      <th>recommend_flag</th>\n",
              "      <th>review_length</th>\n",
              "    </tr>\n",
              "  </thead>\n",
              "  <tbody>\n",
              "    <tr>\n",
              "      <th>0</th>\n",
              "      <td>1250</td>\n",
              "      <td>Simple yet with great replayability. In my opi...</td>\n",
              "      <td>0</td>\n",
              "      <td>November 5</td>\n",
              "      <td>1</td>\n",
              "      <td>249</td>\n",
              "    </tr>\n",
              "    <tr>\n",
              "      <th>1</th>\n",
              "      <td>22200</td>\n",
              "      <td>It's unique and worth a playthrough.</td>\n",
              "      <td>0</td>\n",
              "      <td>July 15</td>\n",
              "      <td>1</td>\n",
              "      <td>36</td>\n",
              "    </tr>\n",
              "    <tr>\n",
              "      <th>2</th>\n",
              "      <td>43110</td>\n",
              "      <td>Great atmosphere. The gunplay can be a bit chu...</td>\n",
              "      <td>0</td>\n",
              "      <td>April 21</td>\n",
              "      <td>1</td>\n",
              "      <td>182</td>\n",
              "    </tr>\n",
              "    <tr>\n",
              "      <th>3</th>\n",
              "      <td>251610</td>\n",
              "      <td>I know what you think when you see this title ...</td>\n",
              "      <td>1</td>\n",
              "      <td>June 24</td>\n",
              "      <td>1</td>\n",
              "      <td>566</td>\n",
              "    </tr>\n",
              "    <tr>\n",
              "      <th>4</th>\n",
              "      <td>227300</td>\n",
              "      <td>For a simple (it's actually not all that simpl...</td>\n",
              "      <td>1</td>\n",
              "      <td>September 8</td>\n",
              "      <td>1</td>\n",
              "      <td>590</td>\n",
              "    </tr>\n",
              "  </tbody>\n",
              "</table>\n",
              "</div>\n",
              "      <button class=\"colab-df-convert\" onclick=\"convertToInteractive('df-b76ec643-c168-4305-a0d7-db9811cdec9e')\"\n",
              "              title=\"Convert this dataframe to an interactive table.\"\n",
              "              style=\"display:none;\">\n",
              "        \n",
              "  <svg xmlns=\"http://www.w3.org/2000/svg\" height=\"24px\"viewBox=\"0 0 24 24\"\n",
              "       width=\"24px\">\n",
              "    <path d=\"M0 0h24v24H0V0z\" fill=\"none\"/>\n",
              "    <path d=\"M18.56 5.44l.94 2.06.94-2.06 2.06-.94-2.06-.94-.94-2.06-.94 2.06-2.06.94zm-11 1L8.5 8.5l.94-2.06 2.06-.94-2.06-.94L8.5 2.5l-.94 2.06-2.06.94zm10 10l.94 2.06.94-2.06 2.06-.94-2.06-.94-.94-2.06-.94 2.06-2.06.94z\"/><path d=\"M17.41 7.96l-1.37-1.37c-.4-.4-.92-.59-1.43-.59-.52 0-1.04.2-1.43.59L10.3 9.45l-7.72 7.72c-.78.78-.78 2.05 0 2.83L4 21.41c.39.39.9.59 1.41.59.51 0 1.02-.2 1.41-.59l7.78-7.78 2.81-2.81c.8-.78.8-2.07 0-2.86zM5.41 20L4 18.59l7.72-7.72 1.47 1.35L5.41 20z\"/>\n",
              "  </svg>\n",
              "      </button>\n",
              "      \n",
              "  <style>\n",
              "    .colab-df-container {\n",
              "      display:flex;\n",
              "      flex-wrap:wrap;\n",
              "      gap: 12px;\n",
              "    }\n",
              "\n",
              "    .colab-df-convert {\n",
              "      background-color: #E8F0FE;\n",
              "      border: none;\n",
              "      border-radius: 50%;\n",
              "      cursor: pointer;\n",
              "      display: none;\n",
              "      fill: #1967D2;\n",
              "      height: 32px;\n",
              "      padding: 0 0 0 0;\n",
              "      width: 32px;\n",
              "    }\n",
              "\n",
              "    .colab-df-convert:hover {\n",
              "      background-color: #E2EBFA;\n",
              "      box-shadow: 0px 1px 2px rgba(60, 64, 67, 0.3), 0px 1px 3px 1px rgba(60, 64, 67, 0.15);\n",
              "      fill: #174EA6;\n",
              "    }\n",
              "\n",
              "    [theme=dark] .colab-df-convert {\n",
              "      background-color: #3B4455;\n",
              "      fill: #D2E3FC;\n",
              "    }\n",
              "\n",
              "    [theme=dark] .colab-df-convert:hover {\n",
              "      background-color: #434B5C;\n",
              "      box-shadow: 0px 1px 3px 1px rgba(0, 0, 0, 0.15);\n",
              "      filter: drop-shadow(0px 1px 2px rgba(0, 0, 0, 0.3));\n",
              "      fill: #FFFFFF;\n",
              "    }\n",
              "  </style>\n",
              "\n",
              "      <script>\n",
              "        const buttonEl =\n",
              "          document.querySelector('#df-b76ec643-c168-4305-a0d7-db9811cdec9e button.colab-df-convert');\n",
              "        buttonEl.style.display =\n",
              "          google.colab.kernel.accessAllowed ? 'block' : 'none';\n",
              "\n",
              "        async function convertToInteractive(key) {\n",
              "          const element = document.querySelector('#df-b76ec643-c168-4305-a0d7-db9811cdec9e');\n",
              "          const dataTable =\n",
              "            await google.colab.kernel.invokeFunction('convertToInteractive',\n",
              "                                                     [key], {});\n",
              "          if (!dataTable) return;\n",
              "\n",
              "          const docLinkHtml = 'Like what you see? Visit the ' +\n",
              "            '<a target=\"_blank\" href=https://colab.research.google.com/notebooks/data_table.ipynb>data table notebook</a>'\n",
              "            + ' to learn more about interactive tables.';\n",
              "          element.innerHTML = '';\n",
              "          dataTable['output_type'] = 'display_data';\n",
              "          await google.colab.output.renderOutput(dataTable, element);\n",
              "          const docLink = document.createElement('div');\n",
              "          docLink.innerHTML = docLinkHtml;\n",
              "          element.appendChild(docLink);\n",
              "        }\n",
              "      </script>\n",
              "    </div>\n",
              "  </div>\n",
              "  "
            ]
          },
          "metadata": {},
          "execution_count": 4
        }
      ]
    },
    {
      "cell_type": "markdown",
      "source": [
        "Remove duplicates:"
      ],
      "metadata": {
        "id": "lClXVJGhiZtE"
      }
    },
    {
      "cell_type": "code",
      "source": [
        "user_reviews.drop_duplicates(inplace=True)\n",
        "user_reviews.duplicated().sum()"
      ],
      "metadata": {
        "id": "bPivYIfQZHLu",
        "colab": {
          "base_uri": "https://localhost:8080/"
        },
        "outputId": "1e5bdf2d-1372-4b0f-a98a-9ec408696d25"
      },
      "execution_count": 5,
      "outputs": [
        {
          "output_type": "execute_result",
          "data": {
            "text/plain": [
              "0"
            ]
          },
          "metadata": {},
          "execution_count": 5
        }
      ]
    },
    {
      "cell_type": "markdown",
      "source": [
        "Include customer script text_preprocess.py:"
      ],
      "metadata": {
        "id": "ztk1S3Kyie4Y"
      }
    },
    {
      "cell_type": "code",
      "source": [
        "#text preprocessing\n",
        "import sys\n",
        "sys.path.insert(0,'/content/drive/My Drive/NLP Project/scripts')\n",
        "\n",
        "import text_preprocess as tp"
      ],
      "metadata": {
        "id": "TMVw19ju_xKE"
      },
      "execution_count": 6,
      "outputs": []
    },
    {
      "cell_type": "code",
      "source": [
        "user_reviews.dtypes"
      ],
      "metadata": {
        "colab": {
          "base_uri": "https://localhost:8080/"
        },
        "id": "T3KbHZ-BHKWW",
        "outputId": "6756b7f0-cb5d-4215-e106-e9a48e669af3"
      },
      "execution_count": 7,
      "outputs": [
        {
          "output_type": "execute_result",
          "data": {
            "text/plain": [
              "item               int64\n",
              "review            object\n",
              "uid                int64\n",
              "month_day         object\n",
              "recommend_flag     int64\n",
              "review_length      int64\n",
              "dtype: object"
            ]
          },
          "metadata": {},
          "execution_count": 7
        }
      ]
    },
    {
      "cell_type": "markdown",
      "source": [
        "Recode insults to their original form using clean_text function:"
      ],
      "metadata": {
        "id": "lsTH9-iKijv1"
      }
    },
    {
      "cell_type": "code",
      "source": [
        "user_reviews[\"text\"] = user_reviews[\"review\"].apply(lambda x: tp.clean_text(str(x)))"
      ],
      "metadata": {
        "id": "YkMNz9zOxyoy"
      },
      "execution_count": 8,
      "outputs": []
    },
    {
      "cell_type": "markdown",
      "source": [
        "Infer toxicity values using the Detoxify model:"
      ],
      "metadata": {
        "id": "RysD4l2wizjw"
      }
    },
    {
      "cell_type": "code",
      "source": [
        "from detoxify import Detoxify\n",
        "\n",
        "classificator = Detoxify('unbiased')\n",
        "\n",
        "classification_results = user_reviews.loc[:, user_reviews.columns.intersection(['uid', 'item', 'text'])]\n",
        "classification_results['toxicity'] = classification_results[\"text\"].apply(lambda x: classificator.predict(x)['toxicity'])"
      ],
      "metadata": {
        "id": "WljmfUk958lM"
      },
      "execution_count": 9,
      "outputs": []
    },
    {
      "cell_type": "code",
      "source": [
        "classification_results.head()"
      ],
      "metadata": {
        "colab": {
          "base_uri": "https://localhost:8080/",
          "height": 204
        },
        "id": "VHojopJzKzLB",
        "outputId": "8d88efb3-d92d-4854-8106-7ea0b03d4eb0"
      },
      "execution_count": 10,
      "outputs": [
        {
          "output_type": "execute_result",
          "data": {
            "text/plain": [
              "     item  uid                                               text  toxicity\n",
              "0    1250    0  simple yet with great replayability in my opin...  0.001871\n",
              "1   22200    0               it s unique and worth a playthrough   0.000363\n",
              "2   43110    0  great atmosphere the gunplay can be a bit chun...  0.000975\n",
              "3  251610    1  i know what you think when you see this title ...  0.001804\n",
              "4  227300    1  for a simple it s actually not all that simple...  0.002723"
            ],
            "text/html": [
              "\n",
              "  <div id=\"df-c342f04e-ccd7-431c-9777-cd723508b3b5\">\n",
              "    <div class=\"colab-df-container\">\n",
              "      <div>\n",
              "<style scoped>\n",
              "    .dataframe tbody tr th:only-of-type {\n",
              "        vertical-align: middle;\n",
              "    }\n",
              "\n",
              "    .dataframe tbody tr th {\n",
              "        vertical-align: top;\n",
              "    }\n",
              "\n",
              "    .dataframe thead th {\n",
              "        text-align: right;\n",
              "    }\n",
              "</style>\n",
              "<table border=\"1\" class=\"dataframe\">\n",
              "  <thead>\n",
              "    <tr style=\"text-align: right;\">\n",
              "      <th></th>\n",
              "      <th>item</th>\n",
              "      <th>uid</th>\n",
              "      <th>text</th>\n",
              "      <th>toxicity</th>\n",
              "    </tr>\n",
              "  </thead>\n",
              "  <tbody>\n",
              "    <tr>\n",
              "      <th>0</th>\n",
              "      <td>1250</td>\n",
              "      <td>0</td>\n",
              "      <td>simple yet with great replayability in my opin...</td>\n",
              "      <td>0.001871</td>\n",
              "    </tr>\n",
              "    <tr>\n",
              "      <th>1</th>\n",
              "      <td>22200</td>\n",
              "      <td>0</td>\n",
              "      <td>it s unique and worth a playthrough</td>\n",
              "      <td>0.000363</td>\n",
              "    </tr>\n",
              "    <tr>\n",
              "      <th>2</th>\n",
              "      <td>43110</td>\n",
              "      <td>0</td>\n",
              "      <td>great atmosphere the gunplay can be a bit chun...</td>\n",
              "      <td>0.000975</td>\n",
              "    </tr>\n",
              "    <tr>\n",
              "      <th>3</th>\n",
              "      <td>251610</td>\n",
              "      <td>1</td>\n",
              "      <td>i know what you think when you see this title ...</td>\n",
              "      <td>0.001804</td>\n",
              "    </tr>\n",
              "    <tr>\n",
              "      <th>4</th>\n",
              "      <td>227300</td>\n",
              "      <td>1</td>\n",
              "      <td>for a simple it s actually not all that simple...</td>\n",
              "      <td>0.002723</td>\n",
              "    </tr>\n",
              "  </tbody>\n",
              "</table>\n",
              "</div>\n",
              "      <button class=\"colab-df-convert\" onclick=\"convertToInteractive('df-c342f04e-ccd7-431c-9777-cd723508b3b5')\"\n",
              "              title=\"Convert this dataframe to an interactive table.\"\n",
              "              style=\"display:none;\">\n",
              "        \n",
              "  <svg xmlns=\"http://www.w3.org/2000/svg\" height=\"24px\"viewBox=\"0 0 24 24\"\n",
              "       width=\"24px\">\n",
              "    <path d=\"M0 0h24v24H0V0z\" fill=\"none\"/>\n",
              "    <path d=\"M18.56 5.44l.94 2.06.94-2.06 2.06-.94-2.06-.94-.94-2.06-.94 2.06-2.06.94zm-11 1L8.5 8.5l.94-2.06 2.06-.94-2.06-.94L8.5 2.5l-.94 2.06-2.06.94zm10 10l.94 2.06.94-2.06 2.06-.94-2.06-.94-.94-2.06-.94 2.06-2.06.94z\"/><path d=\"M17.41 7.96l-1.37-1.37c-.4-.4-.92-.59-1.43-.59-.52 0-1.04.2-1.43.59L10.3 9.45l-7.72 7.72c-.78.78-.78 2.05 0 2.83L4 21.41c.39.39.9.59 1.41.59.51 0 1.02-.2 1.41-.59l7.78-7.78 2.81-2.81c.8-.78.8-2.07 0-2.86zM5.41 20L4 18.59l7.72-7.72 1.47 1.35L5.41 20z\"/>\n",
              "  </svg>\n",
              "      </button>\n",
              "      \n",
              "  <style>\n",
              "    .colab-df-container {\n",
              "      display:flex;\n",
              "      flex-wrap:wrap;\n",
              "      gap: 12px;\n",
              "    }\n",
              "\n",
              "    .colab-df-convert {\n",
              "      background-color: #E8F0FE;\n",
              "      border: none;\n",
              "      border-radius: 50%;\n",
              "      cursor: pointer;\n",
              "      display: none;\n",
              "      fill: #1967D2;\n",
              "      height: 32px;\n",
              "      padding: 0 0 0 0;\n",
              "      width: 32px;\n",
              "    }\n",
              "\n",
              "    .colab-df-convert:hover {\n",
              "      background-color: #E2EBFA;\n",
              "      box-shadow: 0px 1px 2px rgba(60, 64, 67, 0.3), 0px 1px 3px 1px rgba(60, 64, 67, 0.15);\n",
              "      fill: #174EA6;\n",
              "    }\n",
              "\n",
              "    [theme=dark] .colab-df-convert {\n",
              "      background-color: #3B4455;\n",
              "      fill: #D2E3FC;\n",
              "    }\n",
              "\n",
              "    [theme=dark] .colab-df-convert:hover {\n",
              "      background-color: #434B5C;\n",
              "      box-shadow: 0px 1px 3px 1px rgba(0, 0, 0, 0.15);\n",
              "      filter: drop-shadow(0px 1px 2px rgba(0, 0, 0, 0.3));\n",
              "      fill: #FFFFFF;\n",
              "    }\n",
              "  </style>\n",
              "\n",
              "      <script>\n",
              "        const buttonEl =\n",
              "          document.querySelector('#df-c342f04e-ccd7-431c-9777-cd723508b3b5 button.colab-df-convert');\n",
              "        buttonEl.style.display =\n",
              "          google.colab.kernel.accessAllowed ? 'block' : 'none';\n",
              "\n",
              "        async function convertToInteractive(key) {\n",
              "          const element = document.querySelector('#df-c342f04e-ccd7-431c-9777-cd723508b3b5');\n",
              "          const dataTable =\n",
              "            await google.colab.kernel.invokeFunction('convertToInteractive',\n",
              "                                                     [key], {});\n",
              "          if (!dataTable) return;\n",
              "\n",
              "          const docLinkHtml = 'Like what you see? Visit the ' +\n",
              "            '<a target=\"_blank\" href=https://colab.research.google.com/notebooks/data_table.ipynb>data table notebook</a>'\n",
              "            + ' to learn more about interactive tables.';\n",
              "          element.innerHTML = '';\n",
              "          dataTable['output_type'] = 'display_data';\n",
              "          await google.colab.output.renderOutput(dataTable, element);\n",
              "          const docLink = document.createElement('div');\n",
              "          docLink.innerHTML = docLinkHtml;\n",
              "          element.appendChild(docLink);\n",
              "        }\n",
              "      </script>\n",
              "    </div>\n",
              "  </div>\n",
              "  "
            ]
          },
          "metadata": {},
          "execution_count": 10
        }
      ]
    },
    {
      "cell_type": "markdown",
      "source": [
        "Round raw toxicity to toxicity_flag:"
      ],
      "metadata": {
        "id": "Az0s_t5-jD0x"
      }
    },
    {
      "cell_type": "code",
      "source": [
        "classification_results['toxicity_flag']= classification_results['toxicity'].apply(lambda x: round(x))\n",
        "classification_results['toxicity_flag'].value_counts()"
      ],
      "metadata": {
        "colab": {
          "base_uri": "https://localhost:8080/"
        },
        "id": "vAPBJd0V8jMi",
        "outputId": "9ce2e322-d0b9-471b-f9cf-e48e68b3e12f"
      },
      "execution_count": 11,
      "outputs": [
        {
          "output_type": "execute_result",
          "data": {
            "text/plain": [
              "0    54928\n",
              "1     3503\n",
              "Name: toxicity_flag, dtype: int64"
            ]
          },
          "metadata": {},
          "execution_count": 11
        }
      ]
    },
    {
      "cell_type": "markdown",
      "source": [
        "Vader is a rule based system for sentiment extraction using a vocabulary. I have chosen it because it is specialized in social media content."
      ],
      "metadata": {
        "id": "RM6ePBVoSgIR"
      }
    },
    {
      "cell_type": "code",
      "source": [
        "from vaderSentiment.vaderSentiment import SentimentIntensityAnalyzer\n",
        "\n",
        "sid_obj = SentimentIntensityAnalyzer()\n",
        "\n",
        "def sentiment_vader(sentence):\n",
        "\n",
        "    # Create a SentimentIntensityAnalyzer object.\n",
        "\n",
        "    sentiment_dict = sid_obj.polarity_scores(sentence)\n",
        "    negative = sentiment_dict['neg']\n",
        "    neutral = sentiment_dict['neu']\n",
        "    positive = sentiment_dict['pos']\n",
        "    compound = sentiment_dict['compound']\n",
        "\n",
        "    if sentiment_dict['compound'] >= 0.05 :\n",
        "        overall_sentiment = 1\n",
        "\n",
        "    elif sentiment_dict['compound'] <= - 0.05 :\n",
        "        overall_sentiment = -1\n",
        "\n",
        "    else :\n",
        "        overall_sentiment = 0\n",
        "  \n",
        "    return overall_sentiment\n",
        "\n"
      ],
      "metadata": {
        "id": "Wr3X7TcERtf1"
      },
      "execution_count": 13,
      "outputs": []
    },
    {
      "cell_type": "markdown",
      "source": [
        "Obtain sentiment_flag using the vadere model:"
      ],
      "metadata": {
        "id": "fg-dWur9jZIR"
      }
    },
    {
      "cell_type": "code",
      "source": [
        "classification_results[\"sentiment_flag\"] = classification_results[\"text\"].apply(lambda x: sentiment_vader(x))"
      ],
      "metadata": {
        "id": "_Lgt8fO8SAyV"
      },
      "execution_count": 14,
      "outputs": []
    },
    {
      "cell_type": "code",
      "source": [
        "classification_results['sentiment_flag'].value_counts()"
      ],
      "metadata": {
        "colab": {
          "base_uri": "https://localhost:8080/"
        },
        "id": "rDyFVg5K_COa",
        "outputId": "5032df7b-b7d4-425a-9f77-a41569be58aa"
      },
      "execution_count": 15,
      "outputs": [
        {
          "output_type": "execute_result",
          "data": {
            "text/plain": [
              " 1    37097\n",
              " 0    11854\n",
              "-1     9480\n",
              "Name: sentiment_flag, dtype: int64"
            ]
          },
          "metadata": {},
          "execution_count": 15
        }
      ]
    },
    {
      "cell_type": "markdown",
      "source": [
        "Check a random item in the final report:"
      ],
      "metadata": {
        "id": "1VxN1dcrj35v"
      }
    },
    {
      "cell_type": "code",
      "source": [
        "classification_results[classification_results['item']==212070]"
      ],
      "metadata": {
        "colab": {
          "base_uri": "https://localhost:8080/",
          "height": 1000
        },
        "id": "t7-t_e2RApYk",
        "outputId": "7177fe30-0651-4f0e-ac6e-161c3188a1a6"
      },
      "execution_count": 18,
      "outputs": [
        {
          "output_type": "execute_result",
          "data": {
            "text/plain": [
              "         item    uid                                               text  \\\n",
              "149    212070     68  i s freaking rad and the ingame graphics are w...   \n",
              "4748   212070   1887  if you like space battle s with exploding ship...   \n",
              "8822   212070   3453                                      i love it ah    \n",
              "9904   212070   3891                               graphics are amazin    \n",
              "12096  212070   4757  good if you like war thunder and space games a...   \n",
              "13934  212070   5470  star conflict is a action sci fi space shooter...   \n",
              "16848  212070   6700  it s a realy fantastic game with a wide variet...   \n",
              "18561  212070   7363                                       wow just wow   \n",
              "19475  212070   7689  getting over the controls was tough lots of pr...   \n",
              "20218  212070   7975   great game it s a game i really love playing it    \n",
              "20240  212070   7981  its a really good game and i suggest my firend...   \n",
              "22338  212070   8807                                            love it   \n",
              "24119  212070   9542                                        pretty good   \n",
              "24658  212070   9753  world of tanks styled space dogfighting game u...   \n",
              "24689  212070   9767  i like it for the fact i can choose pve pvp or...   \n",
              "25446  212070  10083  this is a reviewa review about spaceshipspros ...   \n",
              "28357  212070  11323                                           so good    \n",
              "28850  212070  11532  used to be a great game sure it had laggy serv...   \n",
              "28988  212070  11581  ive always been a skeptic of fp games but this...   \n",
              "29833  212070  11956  a very fun clean well made and execllent game ...   \n",
              "33434  212070  13598  honestly the best title i ve picked up this se...   \n",
              "34185  212070  13890                   muito recomendado a baixa gogogo   \n",
              "35258  212070  14325  the low tier waiting times are way too long i ...   \n",
              "38779  212070  15795  a really good mmo featuring spaceships only pr...   \n",
              "38958  212070  15871  this is such an awesome game it s also free to...   \n",
              "39494  212070  16086  i liked the intro but it took so long to get i...   \n",
              "41540  212070  17002                                         muito loco   \n",
              "45313  212070  18753                                     its a fun game   \n",
              "45340  212070  18766                            it s off the chain bruh   \n",
              "48025  212070  20138  to me this is one of the best ftp scifi games ...   \n",
              "48363  212070  20304     its alright but gets a bit stale after a while   \n",
              "48737  212070  20514  edit only weeks ago i used to play this game o...   \n",
              "49471  212070  20856  awesome just love it i have had so much fun wi...   \n",
              "54088  212070  23205             its awsome get this god damn muda game   \n",
              "55385  212070  23881  this game is great now that i know anthony pla...   \n",
              "56016  212070  24240                       a littler buggy but very fun   \n",
              "56716  212070  24591  a sci fi game about pvp and something like wor...   \n",
              "57518  212070  24986  i don t know why so many people dislike this g...   \n",
              "\n",
              "       toxicity  toxicity_flag  sentiment_flag  \n",
              "149    0.788883              1              -1  \n",
              "4748   0.006995              0               0  \n",
              "8822   0.000533              0               1  \n",
              "9904   0.000618              0               0  \n",
              "12096  0.007146              0              -1  \n",
              "13934  0.000668              0               1  \n",
              "16848  0.348140              0               1  \n",
              "18561  0.000544              0               1  \n",
              "19475  0.000489              0               1  \n",
              "20218  0.000634              0               1  \n",
              "20240  0.600233              1               1  \n",
              "22338  0.000394              0               1  \n",
              "24119  0.000351              0               1  \n",
              "24658  0.000533              0              -1  \n",
              "24689  0.000553              0               1  \n",
              "25446  0.001221              0               1  \n",
              "28357  0.000375              0               1  \n",
              "28850  0.003424              0              -1  \n",
              "28988  0.002486              0               1  \n",
              "29833  0.000452              0               1  \n",
              "33434  0.000772              0               1  \n",
              "34185  0.022121              0               0  \n",
              "35258  0.000616              0              -1  \n",
              "38779  0.001112              0              -1  \n",
              "38958  0.000523              0               1  \n",
              "39494  0.000827              0              -1  \n",
              "41540  0.184320              0               0  \n",
              "45313  0.000501              0               1  \n",
              "45340  0.002576              0               0  \n",
              "48025  0.000577              0               1  \n",
              "48363  0.004829              0               1  \n",
              "48737  0.008995              0               1  \n",
              "49471  0.000470              0               1  \n",
              "54088  0.975611              1              -1  \n",
              "55385  0.000466              0               1  \n",
              "56016  0.000602              0               1  \n",
              "56716  0.001386              0               1  \n",
              "57518  0.001181              0               0  "
            ],
            "text/html": [
              "\n",
              "  <div id=\"df-d5f48213-61f3-4d29-83f6-9be136798943\">\n",
              "    <div class=\"colab-df-container\">\n",
              "      <div>\n",
              "<style scoped>\n",
              "    .dataframe tbody tr th:only-of-type {\n",
              "        vertical-align: middle;\n",
              "    }\n",
              "\n",
              "    .dataframe tbody tr th {\n",
              "        vertical-align: top;\n",
              "    }\n",
              "\n",
              "    .dataframe thead th {\n",
              "        text-align: right;\n",
              "    }\n",
              "</style>\n",
              "<table border=\"1\" class=\"dataframe\">\n",
              "  <thead>\n",
              "    <tr style=\"text-align: right;\">\n",
              "      <th></th>\n",
              "      <th>item</th>\n",
              "      <th>uid</th>\n",
              "      <th>text</th>\n",
              "      <th>toxicity</th>\n",
              "      <th>toxicity_flag</th>\n",
              "      <th>sentiment_flag</th>\n",
              "    </tr>\n",
              "  </thead>\n",
              "  <tbody>\n",
              "    <tr>\n",
              "      <th>149</th>\n",
              "      <td>212070</td>\n",
              "      <td>68</td>\n",
              "      <td>i s freaking rad and the ingame graphics are w...</td>\n",
              "      <td>0.788883</td>\n",
              "      <td>1</td>\n",
              "      <td>-1</td>\n",
              "    </tr>\n",
              "    <tr>\n",
              "      <th>4748</th>\n",
              "      <td>212070</td>\n",
              "      <td>1887</td>\n",
              "      <td>if you like space battle s with exploding ship...</td>\n",
              "      <td>0.006995</td>\n",
              "      <td>0</td>\n",
              "      <td>0</td>\n",
              "    </tr>\n",
              "    <tr>\n",
              "      <th>8822</th>\n",
              "      <td>212070</td>\n",
              "      <td>3453</td>\n",
              "      <td>i love it ah</td>\n",
              "      <td>0.000533</td>\n",
              "      <td>0</td>\n",
              "      <td>1</td>\n",
              "    </tr>\n",
              "    <tr>\n",
              "      <th>9904</th>\n",
              "      <td>212070</td>\n",
              "      <td>3891</td>\n",
              "      <td>graphics are amazin</td>\n",
              "      <td>0.000618</td>\n",
              "      <td>0</td>\n",
              "      <td>0</td>\n",
              "    </tr>\n",
              "    <tr>\n",
              "      <th>12096</th>\n",
              "      <td>212070</td>\n",
              "      <td>4757</td>\n",
              "      <td>good if you like war thunder and space games a...</td>\n",
              "      <td>0.007146</td>\n",
              "      <td>0</td>\n",
              "      <td>-1</td>\n",
              "    </tr>\n",
              "    <tr>\n",
              "      <th>13934</th>\n",
              "      <td>212070</td>\n",
              "      <td>5470</td>\n",
              "      <td>star conflict is a action sci fi space shooter...</td>\n",
              "      <td>0.000668</td>\n",
              "      <td>0</td>\n",
              "      <td>1</td>\n",
              "    </tr>\n",
              "    <tr>\n",
              "      <th>16848</th>\n",
              "      <td>212070</td>\n",
              "      <td>6700</td>\n",
              "      <td>it s a realy fantastic game with a wide variet...</td>\n",
              "      <td>0.348140</td>\n",
              "      <td>0</td>\n",
              "      <td>1</td>\n",
              "    </tr>\n",
              "    <tr>\n",
              "      <th>18561</th>\n",
              "      <td>212070</td>\n",
              "      <td>7363</td>\n",
              "      <td>wow just wow</td>\n",
              "      <td>0.000544</td>\n",
              "      <td>0</td>\n",
              "      <td>1</td>\n",
              "    </tr>\n",
              "    <tr>\n",
              "      <th>19475</th>\n",
              "      <td>212070</td>\n",
              "      <td>7689</td>\n",
              "      <td>getting over the controls was tough lots of pr...</td>\n",
              "      <td>0.000489</td>\n",
              "      <td>0</td>\n",
              "      <td>1</td>\n",
              "    </tr>\n",
              "    <tr>\n",
              "      <th>20218</th>\n",
              "      <td>212070</td>\n",
              "      <td>7975</td>\n",
              "      <td>great game it s a game i really love playing it</td>\n",
              "      <td>0.000634</td>\n",
              "      <td>0</td>\n",
              "      <td>1</td>\n",
              "    </tr>\n",
              "    <tr>\n",
              "      <th>20240</th>\n",
              "      <td>212070</td>\n",
              "      <td>7981</td>\n",
              "      <td>its a really good game and i suggest my firend...</td>\n",
              "      <td>0.600233</td>\n",
              "      <td>1</td>\n",
              "      <td>1</td>\n",
              "    </tr>\n",
              "    <tr>\n",
              "      <th>22338</th>\n",
              "      <td>212070</td>\n",
              "      <td>8807</td>\n",
              "      <td>love it</td>\n",
              "      <td>0.000394</td>\n",
              "      <td>0</td>\n",
              "      <td>1</td>\n",
              "    </tr>\n",
              "    <tr>\n",
              "      <th>24119</th>\n",
              "      <td>212070</td>\n",
              "      <td>9542</td>\n",
              "      <td>pretty good</td>\n",
              "      <td>0.000351</td>\n",
              "      <td>0</td>\n",
              "      <td>1</td>\n",
              "    </tr>\n",
              "    <tr>\n",
              "      <th>24658</th>\n",
              "      <td>212070</td>\n",
              "      <td>9753</td>\n",
              "      <td>world of tanks styled space dogfighting game u...</td>\n",
              "      <td>0.000533</td>\n",
              "      <td>0</td>\n",
              "      <td>-1</td>\n",
              "    </tr>\n",
              "    <tr>\n",
              "      <th>24689</th>\n",
              "      <td>212070</td>\n",
              "      <td>9767</td>\n",
              "      <td>i like it for the fact i can choose pve pvp or...</td>\n",
              "      <td>0.000553</td>\n",
              "      <td>0</td>\n",
              "      <td>1</td>\n",
              "    </tr>\n",
              "    <tr>\n",
              "      <th>25446</th>\n",
              "      <td>212070</td>\n",
              "      <td>10083</td>\n",
              "      <td>this is a reviewa review about spaceshipspros ...</td>\n",
              "      <td>0.001221</td>\n",
              "      <td>0</td>\n",
              "      <td>1</td>\n",
              "    </tr>\n",
              "    <tr>\n",
              "      <th>28357</th>\n",
              "      <td>212070</td>\n",
              "      <td>11323</td>\n",
              "      <td>so good</td>\n",
              "      <td>0.000375</td>\n",
              "      <td>0</td>\n",
              "      <td>1</td>\n",
              "    </tr>\n",
              "    <tr>\n",
              "      <th>28850</th>\n",
              "      <td>212070</td>\n",
              "      <td>11532</td>\n",
              "      <td>used to be a great game sure it had laggy serv...</td>\n",
              "      <td>0.003424</td>\n",
              "      <td>0</td>\n",
              "      <td>-1</td>\n",
              "    </tr>\n",
              "    <tr>\n",
              "      <th>28988</th>\n",
              "      <td>212070</td>\n",
              "      <td>11581</td>\n",
              "      <td>ive always been a skeptic of fp games but this...</td>\n",
              "      <td>0.002486</td>\n",
              "      <td>0</td>\n",
              "      <td>1</td>\n",
              "    </tr>\n",
              "    <tr>\n",
              "      <th>29833</th>\n",
              "      <td>212070</td>\n",
              "      <td>11956</td>\n",
              "      <td>a very fun clean well made and execllent game ...</td>\n",
              "      <td>0.000452</td>\n",
              "      <td>0</td>\n",
              "      <td>1</td>\n",
              "    </tr>\n",
              "    <tr>\n",
              "      <th>33434</th>\n",
              "      <td>212070</td>\n",
              "      <td>13598</td>\n",
              "      <td>honestly the best title i ve picked up this se...</td>\n",
              "      <td>0.000772</td>\n",
              "      <td>0</td>\n",
              "      <td>1</td>\n",
              "    </tr>\n",
              "    <tr>\n",
              "      <th>34185</th>\n",
              "      <td>212070</td>\n",
              "      <td>13890</td>\n",
              "      <td>muito recomendado a baixa gogogo</td>\n",
              "      <td>0.022121</td>\n",
              "      <td>0</td>\n",
              "      <td>0</td>\n",
              "    </tr>\n",
              "    <tr>\n",
              "      <th>35258</th>\n",
              "      <td>212070</td>\n",
              "      <td>14325</td>\n",
              "      <td>the low tier waiting times are way too long i ...</td>\n",
              "      <td>0.000616</td>\n",
              "      <td>0</td>\n",
              "      <td>-1</td>\n",
              "    </tr>\n",
              "    <tr>\n",
              "      <th>38779</th>\n",
              "      <td>212070</td>\n",
              "      <td>15795</td>\n",
              "      <td>a really good mmo featuring spaceships only pr...</td>\n",
              "      <td>0.001112</td>\n",
              "      <td>0</td>\n",
              "      <td>-1</td>\n",
              "    </tr>\n",
              "    <tr>\n",
              "      <th>38958</th>\n",
              "      <td>212070</td>\n",
              "      <td>15871</td>\n",
              "      <td>this is such an awesome game it s also free to...</td>\n",
              "      <td>0.000523</td>\n",
              "      <td>0</td>\n",
              "      <td>1</td>\n",
              "    </tr>\n",
              "    <tr>\n",
              "      <th>39494</th>\n",
              "      <td>212070</td>\n",
              "      <td>16086</td>\n",
              "      <td>i liked the intro but it took so long to get i...</td>\n",
              "      <td>0.000827</td>\n",
              "      <td>0</td>\n",
              "      <td>-1</td>\n",
              "    </tr>\n",
              "    <tr>\n",
              "      <th>41540</th>\n",
              "      <td>212070</td>\n",
              "      <td>17002</td>\n",
              "      <td>muito loco</td>\n",
              "      <td>0.184320</td>\n",
              "      <td>0</td>\n",
              "      <td>0</td>\n",
              "    </tr>\n",
              "    <tr>\n",
              "      <th>45313</th>\n",
              "      <td>212070</td>\n",
              "      <td>18753</td>\n",
              "      <td>its a fun game</td>\n",
              "      <td>0.000501</td>\n",
              "      <td>0</td>\n",
              "      <td>1</td>\n",
              "    </tr>\n",
              "    <tr>\n",
              "      <th>45340</th>\n",
              "      <td>212070</td>\n",
              "      <td>18766</td>\n",
              "      <td>it s off the chain bruh</td>\n",
              "      <td>0.002576</td>\n",
              "      <td>0</td>\n",
              "      <td>0</td>\n",
              "    </tr>\n",
              "    <tr>\n",
              "      <th>48025</th>\n",
              "      <td>212070</td>\n",
              "      <td>20138</td>\n",
              "      <td>to me this is one of the best ftp scifi games ...</td>\n",
              "      <td>0.000577</td>\n",
              "      <td>0</td>\n",
              "      <td>1</td>\n",
              "    </tr>\n",
              "    <tr>\n",
              "      <th>48363</th>\n",
              "      <td>212070</td>\n",
              "      <td>20304</td>\n",
              "      <td>its alright but gets a bit stale after a while</td>\n",
              "      <td>0.004829</td>\n",
              "      <td>0</td>\n",
              "      <td>1</td>\n",
              "    </tr>\n",
              "    <tr>\n",
              "      <th>48737</th>\n",
              "      <td>212070</td>\n",
              "      <td>20514</td>\n",
              "      <td>edit only weeks ago i used to play this game o...</td>\n",
              "      <td>0.008995</td>\n",
              "      <td>0</td>\n",
              "      <td>1</td>\n",
              "    </tr>\n",
              "    <tr>\n",
              "      <th>49471</th>\n",
              "      <td>212070</td>\n",
              "      <td>20856</td>\n",
              "      <td>awesome just love it i have had so much fun wi...</td>\n",
              "      <td>0.000470</td>\n",
              "      <td>0</td>\n",
              "      <td>1</td>\n",
              "    </tr>\n",
              "    <tr>\n",
              "      <th>54088</th>\n",
              "      <td>212070</td>\n",
              "      <td>23205</td>\n",
              "      <td>its awsome get this god damn muda game</td>\n",
              "      <td>0.975611</td>\n",
              "      <td>1</td>\n",
              "      <td>-1</td>\n",
              "    </tr>\n",
              "    <tr>\n",
              "      <th>55385</th>\n",
              "      <td>212070</td>\n",
              "      <td>23881</td>\n",
              "      <td>this game is great now that i know anthony pla...</td>\n",
              "      <td>0.000466</td>\n",
              "      <td>0</td>\n",
              "      <td>1</td>\n",
              "    </tr>\n",
              "    <tr>\n",
              "      <th>56016</th>\n",
              "      <td>212070</td>\n",
              "      <td>24240</td>\n",
              "      <td>a littler buggy but very fun</td>\n",
              "      <td>0.000602</td>\n",
              "      <td>0</td>\n",
              "      <td>1</td>\n",
              "    </tr>\n",
              "    <tr>\n",
              "      <th>56716</th>\n",
              "      <td>212070</td>\n",
              "      <td>24591</td>\n",
              "      <td>a sci fi game about pvp and something like wor...</td>\n",
              "      <td>0.001386</td>\n",
              "      <td>0</td>\n",
              "      <td>1</td>\n",
              "    </tr>\n",
              "    <tr>\n",
              "      <th>57518</th>\n",
              "      <td>212070</td>\n",
              "      <td>24986</td>\n",
              "      <td>i don t know why so many people dislike this g...</td>\n",
              "      <td>0.001181</td>\n",
              "      <td>0</td>\n",
              "      <td>0</td>\n",
              "    </tr>\n",
              "  </tbody>\n",
              "</table>\n",
              "</div>\n",
              "      <button class=\"colab-df-convert\" onclick=\"convertToInteractive('df-d5f48213-61f3-4d29-83f6-9be136798943')\"\n",
              "              title=\"Convert this dataframe to an interactive table.\"\n",
              "              style=\"display:none;\">\n",
              "        \n",
              "  <svg xmlns=\"http://www.w3.org/2000/svg\" height=\"24px\"viewBox=\"0 0 24 24\"\n",
              "       width=\"24px\">\n",
              "    <path d=\"M0 0h24v24H0V0z\" fill=\"none\"/>\n",
              "    <path d=\"M18.56 5.44l.94 2.06.94-2.06 2.06-.94-2.06-.94-.94-2.06-.94 2.06-2.06.94zm-11 1L8.5 8.5l.94-2.06 2.06-.94-2.06-.94L8.5 2.5l-.94 2.06-2.06.94zm10 10l.94 2.06.94-2.06 2.06-.94-2.06-.94-.94-2.06-.94 2.06-2.06.94z\"/><path d=\"M17.41 7.96l-1.37-1.37c-.4-.4-.92-.59-1.43-.59-.52 0-1.04.2-1.43.59L10.3 9.45l-7.72 7.72c-.78.78-.78 2.05 0 2.83L4 21.41c.39.39.9.59 1.41.59.51 0 1.02-.2 1.41-.59l7.78-7.78 2.81-2.81c.8-.78.8-2.07 0-2.86zM5.41 20L4 18.59l7.72-7.72 1.47 1.35L5.41 20z\"/>\n",
              "  </svg>\n",
              "      </button>\n",
              "      \n",
              "  <style>\n",
              "    .colab-df-container {\n",
              "      display:flex;\n",
              "      flex-wrap:wrap;\n",
              "      gap: 12px;\n",
              "    }\n",
              "\n",
              "    .colab-df-convert {\n",
              "      background-color: #E8F0FE;\n",
              "      border: none;\n",
              "      border-radius: 50%;\n",
              "      cursor: pointer;\n",
              "      display: none;\n",
              "      fill: #1967D2;\n",
              "      height: 32px;\n",
              "      padding: 0 0 0 0;\n",
              "      width: 32px;\n",
              "    }\n",
              "\n",
              "    .colab-df-convert:hover {\n",
              "      background-color: #E2EBFA;\n",
              "      box-shadow: 0px 1px 2px rgba(60, 64, 67, 0.3), 0px 1px 3px 1px rgba(60, 64, 67, 0.15);\n",
              "      fill: #174EA6;\n",
              "    }\n",
              "\n",
              "    [theme=dark] .colab-df-convert {\n",
              "      background-color: #3B4455;\n",
              "      fill: #D2E3FC;\n",
              "    }\n",
              "\n",
              "    [theme=dark] .colab-df-convert:hover {\n",
              "      background-color: #434B5C;\n",
              "      box-shadow: 0px 1px 3px 1px rgba(0, 0, 0, 0.15);\n",
              "      filter: drop-shadow(0px 1px 2px rgba(0, 0, 0, 0.3));\n",
              "      fill: #FFFFFF;\n",
              "    }\n",
              "  </style>\n",
              "\n",
              "      <script>\n",
              "        const buttonEl =\n",
              "          document.querySelector('#df-d5f48213-61f3-4d29-83f6-9be136798943 button.colab-df-convert');\n",
              "        buttonEl.style.display =\n",
              "          google.colab.kernel.accessAllowed ? 'block' : 'none';\n",
              "\n",
              "        async function convertToInteractive(key) {\n",
              "          const element = document.querySelector('#df-d5f48213-61f3-4d29-83f6-9be136798943');\n",
              "          const dataTable =\n",
              "            await google.colab.kernel.invokeFunction('convertToInteractive',\n",
              "                                                     [key], {});\n",
              "          if (!dataTable) return;\n",
              "\n",
              "          const docLinkHtml = 'Like what you see? Visit the ' +\n",
              "            '<a target=\"_blank\" href=https://colab.research.google.com/notebooks/data_table.ipynb>data table notebook</a>'\n",
              "            + ' to learn more about interactive tables.';\n",
              "          element.innerHTML = '';\n",
              "          dataTable['output_type'] = 'display_data';\n",
              "          await google.colab.output.renderOutput(dataTable, element);\n",
              "          const docLink = document.createElement('div');\n",
              "          docLink.innerHTML = docLinkHtml;\n",
              "          element.appendChild(docLink);\n",
              "        }\n",
              "      </script>\n",
              "    </div>\n",
              "  </div>\n",
              "  "
            ]
          },
          "metadata": {},
          "execution_count": 18
        }
      ]
    },
    {
      "cell_type": "code",
      "source": [
        "classification_results.to_csv(file_location+\"classification_results.csv\")"
      ],
      "metadata": {
        "id": "OZ7JymUKBTvy"
      },
      "execution_count": 19,
      "outputs": []
    }
  ]
}